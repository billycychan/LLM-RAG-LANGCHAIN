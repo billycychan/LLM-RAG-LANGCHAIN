{
 "cells": [
  {
   "cell_type": "markdown",
   "id": "f9015635-4148-4f02-80dc-6eba0c513413",
   "metadata": {},
   "source": [
    "# Local Rag Demo "
   ]
  },
  {
   "cell_type": "markdown",
   "id": "d0f1895d-34b0-44e4-a5f2-2b88aedea194",
   "metadata": {},
   "source": [
    "## Document Loading"
   ]
  },
  {
   "cell_type": "code",
   "execution_count": 16,
   "id": "aa807413-3808-41e6-b372-2347b151bea4",
   "metadata": {
    "editable": true,
    "slideshow": {
     "slide_type": ""
    },
    "tags": []
   },
   "outputs": [],
   "source": [
    "import os\n",
    "os.environ['USER_AGENT'] = 'myagent'\n",
    "\n",
    "from langchain.document_loaders import PyPDFLoader\n",
    "\n",
    "from langchain_text_splitters import RecursiveCharacterTextSplitter\n",
    "\n",
    "loader = PyPDFLoader(\"./Billy_Chan_Resume.pdf\")\n",
    "data = loader.load()\n",
    "\n",
    "text_splitter = RecursiveCharacterTextSplitter(chunk_size=100, chunk_overlap=10)\n",
    "all_splits = text_splitter.split_documents(data)"
   ]
  },
  {
   "cell_type": "markdown",
   "id": "278ec801-3ea0-4abd-918f-483c3841803c",
   "metadata": {},
   "source": [
    "## Initialize the vector store. Use nomic-embed-text, "
   ]
  },
  {
   "cell_type": "code",
   "execution_count": 17,
   "id": "9856d7fa-d152-4b2b-af06-4194c3b5dad8",
   "metadata": {},
   "outputs": [],
   "source": [
    "from langchain_chroma import Chroma\n",
    "from langchain_ollama import OllamaEmbeddings\n",
    "\n",
    "local_embeddings = OllamaEmbeddings(model=\"nomic-embed-text\")\n",
    "\n",
    "vectorstore = Chroma.from_documents(documents=all_splits, embedding=local_embeddings)"
   ]
  },
  {
   "cell_type": "markdown",
   "id": "2d548888-130a-4bd4-b087-3d0788ae428a",
   "metadata": {},
   "source": [
    "Test that similarity search is working"
   ]
  },
  {
   "cell_type": "code",
   "execution_count": 18,
   "id": "437e8893-7f2e-4035-88d9-2e1fddd632ca",
   "metadata": {},
   "outputs": [
    {
     "data": {
      "text/plain": [
       "4"
      ]
     },
     "execution_count": 18,
     "metadata": {},
     "output_type": "execute_result"
    }
   ],
   "source": [
    "question = \"Who is Billy Chan?\"\n",
    "docs = vectorstore.similarity_search(question)\n",
    "len(docs)"
   ]
  },
  {
   "cell_type": "markdown",
   "id": "f9de690c-4fcf-42c7-abde-9975b78df739",
   "metadata": {},
   "source": [
    "## Import the LLM Model from ollama"
   ]
  },
  {
   "cell_type": "code",
   "execution_count": 5,
   "id": "03ae0e46-0c25-4703-944a-f1a82134bcaf",
   "metadata": {},
   "outputs": [],
   "source": [
    "from langchain_ollama import ChatOllama\n",
    "\n",
    "model = ChatOllama(\n",
    "    model=\"llama3.2:3b\",\n",
    ")"
   ]
  },
  {
   "cell_type": "markdown",
   "id": "f089d755-0222-45d4-b497-eaff785542dc",
   "metadata": {},
   "source": [
    "Test the response from the model"
   ]
  },
  {
   "cell_type": "code",
   "execution_count": 21,
   "id": "6dab2355-5bf0-41f7-aa5f-f043c8957f3d",
   "metadata": {},
   "outputs": [
    {
     "name": "stdout",
     "output_type": "stream",
     "text": [
      "I couldn't find any notable or well-known person with the name \"Billy Chan\". There may be several individuals with this name, and without more context or information, it's difficult to determine who you are referring to.\n",
      "\n",
      "Could you please provide more details or clarify which Billy Chan you are thinking of? Is he a public figure, artist, musician, athlete, or someone else? Any additional context would help me narrow down the search.\n"
     ]
    }
   ],
   "source": [
    "response_message = model.invoke(\n",
    "    \"Who is Billy Chan \"\n",
    ")\n",
    "\n",
    "print(response_message.content)"
   ]
  },
  {
   "cell_type": "markdown",
   "id": "6c395651-6a1a-41bc-8f75-7a1ef92e0b0d",
   "metadata": {},
   "source": [
    "## Using a Chain\n",
    "\n",
    "We can create a summarization chain with either model by passing in retrieved docs and a simple prompt.\n",
    "\n",
    "It formats the prompt template using the input key values provided and passes the formatted string to the specified model:\n"
   ]
  },
  {
   "cell_type": "code",
   "execution_count": 26,
   "id": "b2e4b445-347c-4b8d-af93-e1451679f4a8",
   "metadata": {},
   "outputs": [
    {
     "data": {
      "text/plain": [
       "'Here is a summary of the main components in the retrieved docs:\\n\\n* Name: Billy Chan\\n* Contact Information:\\n + Phone: (647)-866-8368\\n + Email: billyychan.work@gmail.com\\n + LinkedIn: linkedin.com/in/billyzechan\\n + GitHub: github.com/billyzechan\\n* Availability: Available for 8 or 12 month Software Development Co-op or Internship starting from May 2025\\n* Education:\\n + Currently attending McMaster University (MEng, Computing & Software)\\n + Attended City University of Hong Kong\\n\\nNote that the provided information is limited and may not be comprehensive.'"
      ]
     },
     "execution_count": 26,
     "metadata": {},
     "output_type": "execute_result"
    }
   ],
   "source": [
    "from langchain_core.output_parsers import StrOutputParser\n",
    "from langchain_core.prompts import ChatPromptTemplate\n",
    "\n",
    "prompt = ChatPromptTemplate.from_template(\n",
    "    \"Summarize the main components in the retrieved docs: {docs}\"\n",
    ")\n",
    "\n",
    "\n",
    "# Convert loaded documents into strings by concatenating their content\n",
    "# and ignoring metadata\n",
    "def format_docs(docs):\n",
    "    return \"\\n\\n\".join(doc.page_content for doc in docs)\n",
    "\n",
    "\n",
    "chain = {\"docs\": format_docs} | prompt | model | StrOutputParser()\n",
    "\n",
    "question = \"Who is Billy Chan?\"\n",
    "\n",
    "docs = vectorstore.similarity_search(question)\n",
    "\n",
    "chain.invoke(docs)"
   ]
  },
  {
   "cell_type": "markdown",
   "id": "749f0bdb-9910-4efc-b6e2-55d2fd3d2939",
   "metadata": {},
   "source": [
    "## Q&A\n",
    "You can also perform question-answering with your local model and vector store. Here's an example with a simple string prompt:"
   ]
  },
  {
   "cell_type": "code",
   "execution_count": 30,
   "id": "f31b779d-cd73-4362-9036-b409912c758c",
   "metadata": {},
   "outputs": [
    {
     "data": {
      "text/plain": [
       "'Based on the context, it appears that Billy Chan has skills and experience in software development, specifically in areas such as data structures and algorithms, microservice-oriented architecture, software design, big data, and machine learning. His education at McMaster University suggests a strong foundation in computer science. No specific work experiences are mentioned in the provided context.'"
      ]
     },
     "execution_count": 30,
     "metadata": {},
     "output_type": "execute_result"
    }
   ],
   "source": [
    "from langchain_core.runnables import RunnablePassthrough\n",
    "\n",
    "RAG_TEMPLATE = \"\"\"\n",
    "You are an assistant for question-answering tasks. Use the following pieces of retrieved context to answer the question. If you don't know the answer, just say that you don't know. Use three sentences maximum and keep the answer concise.\n",
    "\n",
    "<context>\n",
    "{context}\n",
    "</context>\n",
    "\n",
    "Answer the following question:\n",
    "\n",
    "{question}\"\"\"\n",
    "\n",
    "rag_prompt = ChatPromptTemplate.from_template(RAG_TEMPLATE)\n",
    "\n",
    "chain = (\n",
    "    RunnablePassthrough.assign(context=lambda input: format_docs(input[\"context\"]))\n",
    "    | rag_prompt\n",
    "    | model\n",
    "    | StrOutputParser()\n",
    ")\n",
    "\n",
    "question = \"What Skills Or Work Experiences do Billy Chan have?\"\n",
    "\n",
    "docs = vectorstore.similarity_search(question)\n",
    "\n",
    "# Run\n",
    "chain.invoke({\"context\": docs, \"question\": question})"
   ]
  },
  {
   "cell_type": "markdown",
   "id": "8537fa56-d005-4eee-9b0c-49e563954ae5",
   "metadata": {},
   "source": [
    "## Q&A with retrieval\n",
    "Finally, instead of manually passing in docs, you can automatically retrieve them from our vector store based on the user question:"
   ]
  },
  {
   "cell_type": "code",
   "execution_count": 33,
   "id": "ce66f04f-0ca0-4600-8606-d8b344ae58c1",
   "metadata": {},
   "outputs": [
    {
     "data": {
      "text/plain": [
       "'Based on the provided context, it appears that Billy Chan has relevant education and courses in Computing & Software at McMaster University, as well as experience with data structures, algorithms, microservices, software design, big data, and machine learning. His availability for an 8 or 12 month co-op internship starting from May 2025 suggests that he is actively seeking opportunities. Overall, his background and skills suggest that Billy Chan could be a strong candidate for a software development co-op.'"
      ]
     },
     "execution_count": 33,
     "metadata": {},
     "output_type": "execute_result"
    }
   ],
   "source": [
    "retriever = vectorstore.as_retriever()\n",
    "\n",
    "qa_chain = (\n",
    "    {\"context\": retriever | format_docs, \"question\": RunnablePassthrough()}\n",
    "    | rag_prompt\n",
    "    | model\n",
    "    | StrOutputParser()\n",
    ")\n",
    "\n",
    "question = \"Based on the skills and experience of Billy Chan, do you think he is a good candidate for any software development co-op?\"\n",
    "\n",
    "qa_chain.invoke(question)"
   ]
  },
  {
   "cell_type": "code",
   "execution_count": null,
   "id": "6fe65f14-0469-4e99-a80d-2ea9f6fa023d",
   "metadata": {},
   "outputs": [],
   "source": []
  }
 ],
 "metadata": {
  "kernelspec": {
   "display_name": "Python 3 (ipykernel)",
   "language": "python",
   "name": "python3"
  },
  "language_info": {
   "codemirror_mode": {
    "name": "ipython",
    "version": 3
   },
   "file_extension": ".py",
   "mimetype": "text/x-python",
   "name": "python",
   "nbconvert_exporter": "python",
   "pygments_lexer": "ipython3",
   "version": "3.11.10"
  }
 },
 "nbformat": 4,
 "nbformat_minor": 5
}
